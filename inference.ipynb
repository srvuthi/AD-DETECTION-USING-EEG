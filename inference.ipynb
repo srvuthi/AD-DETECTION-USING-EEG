{
 "cells": [
  {
   "cell_type": "markdown",
   "id": "7d149b38",
   "metadata": {},
   "source": [
    "this is the code which was able to load the saved weights + config easily. 76% accuracy model"
   ]
  },
  {
   "cell_type": "code",
   "execution_count": null,
   "id": "8761c2e8",
   "metadata": {},
   "outputs": [],
   "source": [
    "import os\n",
    "import torch\n",
    "import numpy as np\n",
    "from scipy.signal import butter, filtfilt\n",
    "from models.resnet_1d import ResNet1D  # Make sure this path is correct\n",
    "\n",
    "device = torch.device(\"cuda\" if torch.cuda.is_available() else \"cpu\")\n",
    "\n",
    "# ---------- Bandpass Filter ----------\n",
    "def bandpass_filter(data, lowcut=1.0, highcut=40.0, fs=250.0, order=5):\n",
    "    nyq = 0.5 * fs\n",
    "    b, a = butter(order, [lowcut / nyq, highcut / nyq], btype='band')\n",
    "    return filtfilt(b, a, data)\n",
    "\n",
    "# ---------- Preprocess EEG ----------\n",
    "def preprocess_eeg(file_path, target_length=500, stats=None):\n",
    "    raw = np.loadtxt(file_path, delimiter=\",\", skiprows=1)\n",
    "    eeg = raw[:, :22].T  # [22, T]\n",
    "\n",
    "    eeg = np.array([bandpass_filter(ch) for ch in eeg])\n",
    "\n",
    "    if eeg.shape[1] > target_length:\n",
    "        eeg = eeg[:, :target_length]\n",
    "    else:\n",
    "        eeg = np.pad(eeg, ((0, 0), (0, target_length - eeg.shape[1])), mode=\"constant\")\n",
    "\n",
    "    if stats:\n",
    "        eeg[:20] = (eeg[:20] - stats['eeg_mean']) / (stats['eeg_std'] + 1e-8)\n",
    "\n",
    "    return torch.tensor(eeg, dtype=torch.float32)\n",
    "\n",
    "# ---------- Load Saved Model ----------\n",
    "checkpoint = torch.load(\"checkpoints/best_retrained_model.pt\", map_location=device, weights_only=False)\n",
    "model_config = checkpoint['config']\n",
    "stats = checkpoint['stats']\n",
    "\n",
    "model = ResNet1D(**model_config)\n",
    "model.load_state_dict(checkpoint['model_state_dict'])\n",
    "model.to(device)\n",
    "model.eval()\n"
   ]
  },
  {
   "cell_type": "code",
   "execution_count": 12,
   "id": "7ddb55dc",
   "metadata": {},
   "outputs": [
    {
     "name": "stdout",
     "output_type": "stream",
     "text": [
      "🧠 EEG File: 2_00746.csv\n",
      "✅ Predicted Label: AD\n"
     ]
    },
    {
     "data": {
      "text/plain": [
       "2"
      ]
     },
     "execution_count": 12,
     "metadata": {},
     "output_type": "execute_result"
    }
   ],
   "source": [
    "\n",
    "def predict_single_file(file_path, true_age, model, stats):\n",
    "    eeg_tensor = preprocess_eeg(file_path, stats=stats).unsqueeze(0).to(device)  # [1, 22, 500]\n",
    "    age_tensor = torch.tensor([(true_age - stats['age_mean']) / stats['age_std']], dtype=torch.float32).unsqueeze(1).to(device)  # [1, 1]\n",
    "\n",
    "    with torch.no_grad():\n",
    "        output = model(eeg_tensor, age_tensor)\n",
    "        predicted_class = output.argmax(dim=1).item()\n",
    "\n",
    "    class_names = ['HC', 'MCI', 'AD']\n",
    "    print(f\"🧠 EEG File: {os.path.basename(file_path)}\")\n",
    "    print(f\"✅ Predicted Label: {class_names[predicted_class]}\")\n",
    "\n",
    "    return predicted_class\n",
    "\n",
    "'''test_file_path = \"data/balanced_subset/0_00906.csv\"\n",
    "true_age = 55'''\n",
    "\n",
    "'''test_file_path = \"data/balanced_subset/1_00582.csv\"\n",
    "true_age = 70'''\n",
    "\n",
    "test_file_path = \"data/balanced_subset/2_00746.csv\"\n",
    "true_age = 65 \n",
    "predict_single_file(test_file_path, true_age, model, stats)"
   ]
  }
 ],
 "metadata": {
  "kernelspec": {
   "display_name": "venv",
   "language": "python",
   "name": "python3"
  },
  "language_info": {
   "codemirror_mode": {
    "name": "ipython",
    "version": 3
   },
   "file_extension": ".py",
   "mimetype": "text/x-python",
   "name": "python",
   "nbconvert_exporter": "python",
   "pygments_lexer": "ipython3",
   "version": "3.13.2"
  }
 },
 "nbformat": 4,
 "nbformat_minor": 5
}
